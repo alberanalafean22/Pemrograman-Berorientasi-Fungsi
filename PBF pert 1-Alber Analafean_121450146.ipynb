{
  "cells": [
    {
      "attachments": {},
      "cell_type": "markdown",
      "metadata": {
        "id": "d_WRrIUh0BRo"
      },
      "source": [
        "\n",
        "# SD2201- Pemrograman Berorientansi Fungsi\n",
        "### ALBER ANALAFEAN\n",
        "### 121450146- Kelas RC"
      ]
    },
    {
      "attachments": {},
      "cell_type": "markdown",
      "metadata": {
        "id": "N6A1OxuS0BRr"
      },
      "source": [
        "## 1. Jelaskan menggunakan tabel mengenai kelebihan dan kekurangan paradigm Procedural dibandingkan dengan Object Oriented (minimal 3) !\n",
        "\n",
        "### Kelebihan Paradigm Procedural & Object Oriented\n",
        "| Paradigm Procedural | Object Oriented |\n",
        "| --- | --- |\n",
        "| Terdapat Program besar dibagi menjadi program unit kecil yang disebut Fungsi | Terdapat Program dibagi lagi menjadi  disebut objek |\n",
        "| Berfokus pada fungsi dan prosedural pada sebuah data | Berfokus pada data sedang beroperasi, bukan fungsi ataupun prosedural |\n",
        "| Kesederhanaan Kode Program, efisiensi & efektifitasnya eksekusi pada baris perintah program yang sangat dekat dengan bahasa mesin (Machine Language) | Dalam Mendefinisikan sebuah class yang cukup mudah sekali, yang bisa mempermudah programmer  |\n",
        "| Penulisan Program memiliki struktur logika yang mudah dipahami | Penulisan Program tidak perlu ditulis kodenya berulang- ulang, dikarenakan bisa menambahkan fungsi tertentu dengan konsep Inheritance (Pewarisan) |\n",
        "\n",
        "### Kekurangan Paradigm Procedural & Object Oriented\n",
        "| Paradigm Procedural | Object Oriented |\n",
        "| --- | --- |\n",
        "| Banyaknya batasan- batasan yang menyulitkan programmer, karena penulisannya jauh dari bahasa manusia| mempengaruhi panjang program yang dibuat |\n",
        "| cukup sulitnya Program di maintenance, dikarenakan sulit untuk mengubah kode tanpa pengaruh fungsi sistem secara total | memiliki keterampilan merancang dan pemrograman yang tinggi, karena OOP sedikit rumit |\n",
        "| Penerapan Prosedural lebih efektif pada aplikasi sederhana | Penerapan OOP lebih efektif pada pada aplikasi kompleks |"
      ]
    },
    {
      "attachments": {},
      "cell_type": "markdown",
      "metadata": {
        "id": "YrL1Ybd-0BRs"
      },
      "source": [
        "## 2. Jelaskan menggunakan tabel mengenai kelebihan dan kekurangan paradigma Object Oriented dibandingkan dengan Functional (minimal 3) !\n",
        "\n",
        "### Kelebihan Paradigm Object Oriented & Functional\n",
        "\n",
        "| Paradigm Object Oriented | Functional |\n",
        "| --- | --- |\n",
        "| Menggabungkan fungsi& data dalam kelas atau objek | memecah program dalam fungsi dan data|\n",
        "| Program Efektif digunakan dalam menyelesaikan masalah besar | Program Efektif digunakan untuk menyelesaikan masalah kecil |\n",
        "| Dapat reusable, dengan memanfaatkan class dan method yang telah dibuat | Function menjadi lebih reusable |\n",
        "\n",
        "\n",
        "### Kekurangan Paradigm Object Oriented & Functional\n",
        "\n",
        "| Paradigm Object Oriented | Functional |\n",
        "| --- | --- |\n",
        "| Memori yang digunakan Lebih Besar | Memori yang digunakan lebih kecil |\n",
        "| Relatif sedikir rumit dipelajari, diharuskan memiliki Keterampilan merancang dan pemrograman yang tinggi | Relatif sulit dipelajari bagi pemula|\n",
        "| Integrasi data & fungsi baru bisa dilakukan dengan proses yang mudah | Integrasi data & fungsi baru sulit dilakukan di Functional |"
      ]
    },
    {
      "attachments": {},
      "cell_type": "markdown",
      "metadata": {
        "id": "SbzG6YTx0BRt"
      },
      "source": [
        "## 3. Jelaskan menggunakan tabel mengenai kelebihan dan kekurangan paradigma Procedural dibandingkan dengan Functional (minimal 3) !\n",
        "\n",
        "### Kelebihan Paradigm Procedural & Functional\n",
        "\n",
        "\n",
        "| Paragdim Procedural | Functional |\n",
        "| --- | --- |\n",
        "| Struktur kode dinyatakan dalam bentuk beurutan(prosedural) | Struktur kode program setiap fungsi dinyatakan dalam fungsi matematika |\n",
        "| Penulisan kode, memiliki struktur sederhana & tidak rumit | Penulisan kode tidak terlalu banyak, dikarenakan mengunakan fungsi |\n",
        "| Pendekatan bersifat umum, dan bisa diterapakan ke bahasa manapun | bersifat Pure Functions, kode readable, sehingga hanya bisa diterapkan pada bahasa tertentu|\n",
        "\n",
        "### Kekurangan Paradigm Procedural & Functional\n",
        "\n",
        "| Paragdim Procedural | Functional |\n",
        "| --- | --- |\n",
        "| Relatif mudah dipelajari bagi pemula | Relatif susah dipelajari bagi pemula|\n",
        "| Kode bisa jadi menjadi tidak readable pada permasalahan yang kompleks| ketika sistem sudah kompleks dibeberap program, penulisan FP ini akan tidak readable.|\n",
        "\n"
      ]
    },
    {
      "attachments": {},
      "cell_type": "markdown",
      "metadata": {
        "id": "jnMc7_gm0BRt"
      },
      "source": [
        "## 4. Apa yang dimaksud dengan pure functional programming language?\n",
        "\n",
        "\n",
        "### Paradigma pemrograman dengan struktur bahkan elemen program yang diciptakan, dimana Fungsi harus selalu memberikan nilai balik pada argumen atau parameter yang sama. Dan mutable variabel (let) diluar fungsi tidak bergantung.\n"
      ]
    },
    {
      "attachments": {},
      "cell_type": "markdown",
      "metadata": {
        "id": "GdcGWIp70BRu"
      },
      "source": [
        "## 5. Dari bahasa pemrograman FP di slide sebelumnya ( slide 14 ) , manakah yang termasuk pure functional programming language?\n",
        "\n",
        "### Haskell, Lisp , Scala, Javascript\n"
      ]
    },
    {
      "cell_type": "markdown",
      "metadata": {
        "id": "FviIOSTU0BRu"
      },
      "source": [
        "## 6. Membuat program Simple Password encryption, dengan ketentuan:\n",
        "\n",
        "\n",
        "### 1. Input password bertipe string dengan batasan panjang password 100 karakter\n",
        "### 2. Setiap karakter dari string tersebut diubah menjadi ASCII value\n",
        "### 3. Kemudian setiap ASCII value tersebut dikembangkan menjadi 3 value dengan dilakukan operasi berikut:\n",
        "    A. Value pertama dibagi dengan integer 26 kemudian dibulatkan dan dijumlahkan dengan 80 kemudian diubah kembali menjadi karakter\n",
        "    B. Value kedua dihitung sisa bagi dengan 26 kemudian dijumlahkan dengan 80 kemudian diubah kembali menjadi karakter\n",
        "    C. Value ketiga adalah karakter '+' jika value pertama lebih besar dari value kedua, atau value ketiga adalah karakter '-' jika value pertama tidak lebih besar dari value kedua\n",
        "    D. Deretkan value pertama, kedua dan ketiga untuk setiap karakter dalam password tersebut sehingga didapatkan password dalam bentuk baru\n"
      ]
    },
    {
      "cell_type": "markdown",
      "metadata": {
        "id": "EDNn0WPW0BRv"
      },
      "source": [
        "##### Kode Program"
      ]
    },
    {
      "cell_type": "code",
      "execution_count": 6,
      "metadata": {},
      "outputs": [],
      "source": [
        "#ps= password\n",
        "def encrypt(ps):\n",
        "  pssplit = list(ps)\n",
        "  ascii = list()\n",
        "  for char in pssplit:\n",
        "    asciii = ord(char)\n",
        "    ascii.append(asciii)\n",
        "  enkripps = \"\"\n",
        "  for num in ascii:\n",
        "    value1 = num//26 + 80\n",
        "    value2 = num%26 + 80\n",
        "    if value1 > value2:\n",
        "      value3 = '-'\n",
        "    else:\n",
        "      value3 = '+'\n",
        "    enkripps = enkripps + chr(value1) + chr(value2) + value3  #chr> menginvers karakter dari bilangan int dan merubah menjadi nilai str\n",
        "  return enkripps\n",
        "\n",
        "def decrypt(ps):\n",
        "  pssplit = [ps[i:i+3] for i in range(0, len(ps), 3)]\n",
        "  ascii = list()\n",
        "  for word in pssplit:\n",
        "    value1 = ord(word[0]) - 80\n",
        "    value2 = ord(word[1]) - 80\n",
        "    value = 26 * value1 + value2\n",
        "    ascii.append(value)\n",
        "  ps = ''\n",
        "  for i in ascii:\n",
        "    char = chr(i)\n",
        "    ps = ps + char\n",
        "  return ps"
      ]
    },
    {
      "cell_type": "markdown",
      "metadata": {
        "id": "vnEhrile0BRx"
      },
      "source": [
        "##### OUTPUT ENKRIPSI"
      ]
    },
    {
      "cell_type": "code",
      "execution_count": 10,
      "metadata": {},
      "outputs": [
        {
          "name": "stdout",
          "output_type": "stream",
          "text": [
            "Input Password :  INSTITUTTEKNOLOGISUMATERA\n",
            "output enkripsi :  Re+SP-SU+SV+Re+SV+SW+SV+SV+Ra+Rg+SP-SQ-Rh+SQ-Rc+Re+SU+SW+Ri+R]+SV+Ra+ST+R]+\n"
          ]
        }
      ],
      "source": [
        "# enkripsi\n",
        "pss = input(\"Enter Password: \")\n",
        "y = encrypt(pss)\n",
        "print(\"Input Password : \", pss)\n",
        "print(\"output enkripsi : \", y)"
      ]
    },
    {
      "cell_type": "markdown",
      "metadata": {
        "id": "22Iv4XeY0BRy"
      },
      "source": [
        "##### OUTPUT DEKRIPSI"
      ]
    },
    {
      "cell_type": "code",
      "execution_count": 9,
      "metadata": {
        "id": "NJ3P5bHW0BRy",
        "outputId": "d6a8ced8-bf54-4e3b-bede-4f60b71455de"
      },
      "outputs": [
        {
          "name": "stdout",
          "output_type": "stream",
          "text": [
            "input enkripsi:  Re+SP-SU+SV+Re+SV+SW+SV+SV+Ra+Rg+SP-SQ-Rh+SQ-Rc+Re+R^+R]+SP-R`+SW+SP-Rc+\n",
            "output password:  INSTITUTTEKNOLOGIBANDUNG\n"
          ]
        }
      ],
      "source": [
        "# dekripsi\n",
        "e = input(\"input enkripsi: \")\n",
        "x = decrypt(e)\n",
        "print(\"input enkripsi: \", e)\n",
        "print(\"output password: \", x)"
      ]
    }
  ],
  "metadata": {
    "colab": {
      "provenance": []
    },
    "kernelspec": {
      "display_name": "Python 3",
      "language": "python",
      "name": "python3"
    },
    "language_info": {
      "codemirror_mode": {
        "name": "ipython",
        "version": 3
      },
      "file_extension": ".py",
      "mimetype": "text/x-python",
      "name": "python",
      "nbconvert_exporter": "python",
      "pygments_lexer": "ipython3",
      "version": "3.10.5"
    },
    "orig_nbformat": 4,
    "vscode": {
      "interpreter": {
        "hash": "afb734500600fd355917ca529030176ea0ca205570884b88f2f6f7d791fd3fbe"
      }
    }
  },
  "nbformat": 4,
  "nbformat_minor": 0
}
